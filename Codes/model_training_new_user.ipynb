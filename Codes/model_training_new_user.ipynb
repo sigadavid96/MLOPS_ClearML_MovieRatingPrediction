{
 "cells": [
  {
   "cell_type": "markdown",
   "metadata": {},
   "source": [
    "Experiment Name : Decision Tree\n",
    " \n",
    "User : John Doe (djoe)"
   ]
  },
  {
   "cell_type": "markdown",
   "metadata": {},
   "source": [
    "Importing Relavant Libraries"
   ]
  },
  {
   "cell_type": "code",
   "execution_count": 1,
   "metadata": {},
   "outputs": [],
   "source": [
    "# data analysis and wrangling\n",
    "import pandas as pd\n",
    "import numpy as np\n",
    "import random as rnd\n",
    "\n",
    "# visualization\n",
    "import seaborn as sns\n",
    "import matplotlib.pyplot as plt\n",
    "%matplotlib inline\n",
    "\n",
    "# machine learning\n",
    "from sklearn.model_selection import train_test_split\n",
    "from sklearn.linear_model import LogisticRegression\n",
    "from sklearn.svm import SVC, LinearSVC\n",
    "from sklearn.ensemble import RandomForestClassifier\n",
    "from sklearn.neighbors import KNeighborsClassifier\n",
    "from sklearn.naive_bayes import GaussianNB\n",
    "from sklearn.linear_model import Perceptron\n",
    "from sklearn.linear_model import SGDClassifier\n",
    "from sklearn.tree import DecisionTreeClassifier\n",
    "from sklearn.model_selection import learning_curve\n",
    "\n",
    "\n",
    "#clearml\n",
    "from clearml import Task, Logger\n",
    "\n",
    "\n",
    "#joblib\n",
    "try:\n",
    "    import joblib\n",
    "except ImportError:\n",
    "    from sklearn.externals import joblib\n"
   ]
  },
  {
   "cell_type": "markdown",
   "metadata": {},
   "source": [
    "Connecting ClearML"
   ]
  },
  {
   "cell_type": "code",
   "execution_count": 2,
   "metadata": {},
   "outputs": [
    {
     "name": "stdout",
     "output_type": "stream",
     "text": [
      "ClearML Task: created new task id=6adf17a9ee184e488da7e8d96e4c897c\n",
      "2022-11-10 23:17:31,875 - clearml.Task - INFO - Storing jupyter notebook directly as code\n",
      "ClearML results page: https://app.clear.ml/projects/99ef1f8d69624d71b5de4a2c3f168b18/experiments/6adf17a9ee184e488da7e8d96e4c897c/output/log\n"
     ]
    }
   ],
   "source": [
    "# Connecting ClearML\n",
    "from clearml import Task\n",
    "task = Task.init(project_name='Movie Rating Prediction', task_name='Decision Tree v1 on Data 1')"
   ]
  },
  {
   "cell_type": "code",
   "execution_count": 3,
   "metadata": {},
   "outputs": [
    {
     "data": {
      "text/html": [
       "<div>\n",
       "<style scoped>\n",
       "    .dataframe tbody tr th:only-of-type {\n",
       "        vertical-align: middle;\n",
       "    }\n",
       "\n",
       "    .dataframe tbody tr th {\n",
       "        vertical-align: top;\n",
       "    }\n",
       "\n",
       "    .dataframe thead th {\n",
       "        text-align: right;\n",
       "    }\n",
       "</style>\n",
       "<table border=\"1\" class=\"dataframe\">\n",
       "  <thead>\n",
       "    <tr style=\"text-align: right;\">\n",
       "      <th></th>\n",
       "      <th>MovieIDs</th>\n",
       "      <th>MovieName</th>\n",
       "      <th>Category</th>\n",
       "      <th>ID</th>\n",
       "      <th>MovieID</th>\n",
       "      <th>Ratings</th>\n",
       "      <th>TimeStamp</th>\n",
       "      <th>UserID</th>\n",
       "      <th>Gender</th>\n",
       "      <th>Age</th>\n",
       "      <th>Occupation</th>\n",
       "      <th>Zip-code</th>\n",
       "      <th>age_group</th>\n",
       "    </tr>\n",
       "  </thead>\n",
       "  <tbody>\n",
       "    <tr>\n",
       "      <th>0</th>\n",
       "      <td>233.0</td>\n",
       "      <td>Exotica (1994)</td>\n",
       "      <td>Drama</td>\n",
       "      <td>3</td>\n",
       "      <td>1968</td>\n",
       "      <td>4</td>\n",
       "      <td>978297068</td>\n",
       "      <td>231.0</td>\n",
       "      <td>M</td>\n",
       "      <td>25.0</td>\n",
       "      <td>3.0</td>\n",
       "      <td>55455</td>\n",
       "      <td>20-29</td>\n",
       "    </tr>\n",
       "    <tr>\n",
       "      <th>1</th>\n",
       "      <td>2191.0</td>\n",
       "      <td>Merry War, A (1997)</td>\n",
       "      <td>Comedy</td>\n",
       "      <td>18</td>\n",
       "      <td>367</td>\n",
       "      <td>4</td>\n",
       "      <td>978152486</td>\n",
       "      <td>2123.0</td>\n",
       "      <td>F</td>\n",
       "      <td>35.0</td>\n",
       "      <td>0.0</td>\n",
       "      <td>13064</td>\n",
       "      <td>30-39</td>\n",
       "    </tr>\n",
       "    <tr>\n",
       "      <th>2</th>\n",
       "      <td>1517.0</td>\n",
       "      <td>Austin Powers: International Man of Mystery (1...</td>\n",
       "      <td>Comedy</td>\n",
       "      <td>14</td>\n",
       "      <td>3578</td>\n",
       "      <td>4</td>\n",
       "      <td>978200828</td>\n",
       "      <td>1483.0</td>\n",
       "      <td>M</td>\n",
       "      <td>18.0</td>\n",
       "      <td>4.0</td>\n",
       "      <td>54481</td>\n",
       "      <td>10-19</td>\n",
       "    </tr>\n",
       "    <tr>\n",
       "      <th>3</th>\n",
       "      <td>3006.0</td>\n",
       "      <td>Insider, The (1999)</td>\n",
       "      <td>Drama</td>\n",
       "      <td>23</td>\n",
       "      <td>3618</td>\n",
       "      <td>3</td>\n",
       "      <td>978460576</td>\n",
       "      <td>2938.0</td>\n",
       "      <td>F</td>\n",
       "      <td>25.0</td>\n",
       "      <td>0.0</td>\n",
       "      <td>55345</td>\n",
       "      <td>20-29</td>\n",
       "    </tr>\n",
       "    <tr>\n",
       "      <th>4</th>\n",
       "      <td>48.0</td>\n",
       "      <td>Pocahontas (1995)</td>\n",
       "      <td>Animation|Children's|Musical|Romance</td>\n",
       "      <td>1</td>\n",
       "      <td>1207</td>\n",
       "      <td>4</td>\n",
       "      <td>978300719</td>\n",
       "      <td>48.0</td>\n",
       "      <td>M</td>\n",
       "      <td>25.0</td>\n",
       "      <td>4.0</td>\n",
       "      <td>92107</td>\n",
       "      <td>20-29</td>\n",
       "    </tr>\n",
       "    <tr>\n",
       "      <th>...</th>\n",
       "      <td>...</td>\n",
       "      <td>...</td>\n",
       "      <td>...</td>\n",
       "      <td>...</td>\n",
       "      <td>...</td>\n",
       "      <td>...</td>\n",
       "      <td>...</td>\n",
       "      <td>...</td>\n",
       "      <td>...</td>\n",
       "      <td>...</td>\n",
       "      <td>...</td>\n",
       "      <td>...</td>\n",
       "      <td>...</td>\n",
       "    </tr>\n",
       "    <tr>\n",
       "      <th>3488</th>\n",
       "      <td>829.0</td>\n",
       "      <td>Joe's Apartment (1996)</td>\n",
       "      <td>Comedy|Musical</td>\n",
       "      <td>10</td>\n",
       "      <td>3500</td>\n",
       "      <td>5</td>\n",
       "      <td>978228153</td>\n",
       "      <td>819.0</td>\n",
       "      <td>M</td>\n",
       "      <td>35.0</td>\n",
       "      <td>7.0</td>\n",
       "      <td>60611</td>\n",
       "      <td>30-39</td>\n",
       "    </tr>\n",
       "    <tr>\n",
       "      <th>3489</th>\n",
       "      <td>1457.0</td>\n",
       "      <td>Fools Rush In (1997)</td>\n",
       "      <td>Comedy|Romance</td>\n",
       "      <td>13</td>\n",
       "      <td>380</td>\n",
       "      <td>3</td>\n",
       "      <td>978201927</td>\n",
       "      <td>1431.0</td>\n",
       "      <td>M</td>\n",
       "      <td>56.0</td>\n",
       "      <td>6.0</td>\n",
       "      <td>91011</td>\n",
       "      <td>50-59</td>\n",
       "    </tr>\n",
       "    <tr>\n",
       "      <th>3490</th>\n",
       "      <td>1684.0</td>\n",
       "      <td>Mrs. Dalloway (1997)</td>\n",
       "      <td>Romance</td>\n",
       "      <td>15</td>\n",
       "      <td>2506</td>\n",
       "      <td>2</td>\n",
       "      <td>978198277</td>\n",
       "      <td>1639.0</td>\n",
       "      <td>M</td>\n",
       "      <td>25.0</td>\n",
       "      <td>17.0</td>\n",
       "      <td>95405</td>\n",
       "      <td>20-29</td>\n",
       "    </tr>\n",
       "    <tr>\n",
       "      <th>3491</th>\n",
       "      <td>2577.0</td>\n",
       "      <td>Metroland (1997)</td>\n",
       "      <td>Comedy|Drama</td>\n",
       "      <td>20</td>\n",
       "      <td>1923</td>\n",
       "      <td>4</td>\n",
       "      <td>978143576</td>\n",
       "      <td>2509.0</td>\n",
       "      <td>M</td>\n",
       "      <td>25.0</td>\n",
       "      <td>5.0</td>\n",
       "      <td>36109</td>\n",
       "      <td>20-29</td>\n",
       "    </tr>\n",
       "    <tr>\n",
       "      <th>3492</th>\n",
       "      <td>3260.0</td>\n",
       "      <td>Howards End (1992)</td>\n",
       "      <td>Drama</td>\n",
       "      <td>24</td>\n",
       "      <td>329</td>\n",
       "      <td>3</td>\n",
       "      <td>978135339</td>\n",
       "      <td>3192.0</td>\n",
       "      <td>M</td>\n",
       "      <td>18.0</td>\n",
       "      <td>4.0</td>\n",
       "      <td>02912</td>\n",
       "      <td>10-19</td>\n",
       "    </tr>\n",
       "  </tbody>\n",
       "</table>\n",
       "<p>3493 rows × 13 columns</p>\n",
       "</div>"
      ],
      "text/plain": [
       "      MovieIDs                                          MovieName  \\\n",
       "0        233.0                                     Exotica (1994)   \n",
       "1       2191.0                                Merry War, A (1997)   \n",
       "2       1517.0  Austin Powers: International Man of Mystery (1...   \n",
       "3       3006.0                                Insider, The (1999)   \n",
       "4         48.0                                  Pocahontas (1995)   \n",
       "...        ...                                                ...   \n",
       "3488     829.0                             Joe's Apartment (1996)   \n",
       "3489    1457.0                               Fools Rush In (1997)   \n",
       "3490    1684.0                               Mrs. Dalloway (1997)   \n",
       "3491    2577.0                                   Metroland (1997)   \n",
       "3492    3260.0                                 Howards End (1992)   \n",
       "\n",
       "                                  Category  ID  MovieID  Ratings  TimeStamp  \\\n",
       "0                                    Drama   3     1968        4  978297068   \n",
       "1                                   Comedy  18      367        4  978152486   \n",
       "2                                   Comedy  14     3578        4  978200828   \n",
       "3                                    Drama  23     3618        3  978460576   \n",
       "4     Animation|Children's|Musical|Romance   1     1207        4  978300719   \n",
       "...                                    ...  ..      ...      ...        ...   \n",
       "3488                        Comedy|Musical  10     3500        5  978228153   \n",
       "3489                        Comedy|Romance  13      380        3  978201927   \n",
       "3490                               Romance  15     2506        2  978198277   \n",
       "3491                          Comedy|Drama  20     1923        4  978143576   \n",
       "3492                                 Drama  24      329        3  978135339   \n",
       "\n",
       "      UserID Gender   Age  Occupation Zip-code age_group  \n",
       "0      231.0      M  25.0         3.0    55455     20-29  \n",
       "1     2123.0      F  35.0         0.0    13064     30-39  \n",
       "2     1483.0      M  18.0         4.0    54481     10-19  \n",
       "3     2938.0      F  25.0         0.0    55345     20-29  \n",
       "4       48.0      M  25.0         4.0    92107     20-29  \n",
       "...      ...    ...   ...         ...      ...       ...  \n",
       "3488   819.0      M  35.0         7.0    60611     30-39  \n",
       "3489  1431.0      M  56.0         6.0    91011     50-59  \n",
       "3490  1639.0      M  25.0        17.0    95405     20-29  \n",
       "3491  2509.0      M  25.0         5.0    36109     20-29  \n",
       "3492  3192.0      M  18.0         4.0    02912     10-19  \n",
       "\n",
       "[3493 rows x 13 columns]"
      ]
     },
     "execution_count": 3,
     "metadata": {},
     "output_type": "execute_result"
    }
   ],
   "source": [
    "# Data Pull\n",
    "df=pd.read_csv(\"Data/MovieRatings_data2.csv\")\n",
    "df"
   ]
  },
  {
   "cell_type": "code",
   "execution_count": 4,
   "metadata": {},
   "outputs": [
    {
     "name": "stdout",
     "output_type": "stream",
     "text": [
      "ClearML results page: https://app.clear.ml/projects/dbaccea7572f4e5d8f23b1d3ee685081/experiments/a91918aa3af74038b810d92bd5389fea/output/log\n",
      "ClearML dataset page: https://app.clear.ml/datasets/simple/dbaccea7572f4e5d8f23b1d3ee685081/experiments/a91918aa3af74038b810d92bd5389fea\n",
      "Uploading dataset changes (1 files compressed to 120.71 KiB) to https://files.clear.ml\n",
      "File compression and upload completed: total size 120.71 KiB, 1 chunk(s) stored (average size 120.71 KiB)\n",
      "2022-11-10 23:17:48,289 - clearml.Task - INFO - Waiting to finish uploads\n",
      "2022-11-10 23:17:48,554 - clearml.Task - INFO - Finished uploading\n"
     ]
    },
    {
     "data": {
      "text/plain": [
       "True"
      ]
     },
     "execution_count": 4,
     "metadata": {},
     "output_type": "execute_result"
    }
   ],
   "source": [
    "from clearml import Dataset\n",
    "\n",
    "# Preprocessed dataset can be stored into clearml as a dataset version\n",
    "\n",
    "dataset = Dataset.create(dataset_name='dataset2',dataset_project='Movie Rating Prediction')\n",
    "dataset.add_files('Data/MovieRatings_data2.csv')\n",
    "dataset.upload()\n",
    "dataset.finalize()"
   ]
  },
  {
   "cell_type": "markdown",
   "metadata": {},
   "source": [
    "Exploratory Data Analysis"
   ]
  },
  {
   "cell_type": "code",
   "execution_count": 5,
   "metadata": {},
   "outputs": [
    {
     "data": {
      "text/html": [
       "<div>\n",
       "<style scoped>\n",
       "    .dataframe tbody tr th:only-of-type {\n",
       "        vertical-align: middle;\n",
       "    }\n",
       "\n",
       "    .dataframe tbody tr th {\n",
       "        vertical-align: top;\n",
       "    }\n",
       "\n",
       "    .dataframe thead th {\n",
       "        text-align: right;\n",
       "    }\n",
       "</style>\n",
       "<table border=\"1\" class=\"dataframe\">\n",
       "  <thead>\n",
       "    <tr style=\"text-align: right;\">\n",
       "      <th></th>\n",
       "      <th>MovieIDs</th>\n",
       "      <th>ID</th>\n",
       "      <th>MovieID</th>\n",
       "      <th>Ratings</th>\n",
       "      <th>TimeStamp</th>\n",
       "      <th>UserID</th>\n",
       "      <th>Age</th>\n",
       "      <th>Occupation</th>\n",
       "    </tr>\n",
       "  </thead>\n",
       "  <tbody>\n",
       "    <tr>\n",
       "      <th>count</th>\n",
       "      <td>3493.000000</td>\n",
       "      <td>3493.000000</td>\n",
       "      <td>3493.000000</td>\n",
       "      <td>3493.000000</td>\n",
       "      <td>3.493000e+03</td>\n",
       "      <td>3493.000000</td>\n",
       "      <td>3493.000000</td>\n",
       "      <td>3493.000000</td>\n",
       "    </tr>\n",
       "    <tr>\n",
       "      <th>mean</th>\n",
       "      <td>2002.874606</td>\n",
       "      <td>16.256799</td>\n",
       "      <td>1810.537647</td>\n",
       "      <td>3.560263</td>\n",
       "      <td>9.785946e+08</td>\n",
       "      <td>1958.405955</td>\n",
       "      <td>30.527054</td>\n",
       "      <td>8.241340</td>\n",
       "    </tr>\n",
       "    <tr>\n",
       "      <th>std</th>\n",
       "      <td>1147.475803</td>\n",
       "      <td>7.475210</td>\n",
       "      <td>1078.401733</td>\n",
       "      <td>1.090751</td>\n",
       "      <td>2.336840e+06</td>\n",
       "      <td>1121.858091</td>\n",
       "      <td>13.114863</td>\n",
       "      <td>6.347686</td>\n",
       "    </tr>\n",
       "    <tr>\n",
       "      <th>min</th>\n",
       "      <td>2.000000</td>\n",
       "      <td>1.000000</td>\n",
       "      <td>1.000000</td>\n",
       "      <td>1.000000</td>\n",
       "      <td>9.781252e+08</td>\n",
       "      <td>2.000000</td>\n",
       "      <td>1.000000</td>\n",
       "      <td>0.000000</td>\n",
       "    </tr>\n",
       "    <tr>\n",
       "      <th>25%</th>\n",
       "      <td>1003.000000</td>\n",
       "      <td>10.000000</td>\n",
       "      <td>951.000000</td>\n",
       "      <td>3.000000</td>\n",
       "      <td>9.781533e+08</td>\n",
       "      <td>991.000000</td>\n",
       "      <td>25.000000</td>\n",
       "      <td>3.000000</td>\n",
       "    </tr>\n",
       "    <tr>\n",
       "      <th>50%</th>\n",
       "      <td>2039.000000</td>\n",
       "      <td>18.000000</td>\n",
       "      <td>1732.000000</td>\n",
       "      <td>4.000000</td>\n",
       "      <td>9.782244e+08</td>\n",
       "      <td>1971.000000</td>\n",
       "      <td>25.000000</td>\n",
       "      <td>7.000000</td>\n",
       "    </tr>\n",
       "    <tr>\n",
       "      <th>75%</th>\n",
       "      <td>2997.000000</td>\n",
       "      <td>23.000000</td>\n",
       "      <td>2694.000000</td>\n",
       "      <td>4.000000</td>\n",
       "      <td>9.782976e+08</td>\n",
       "      <td>2929.000000</td>\n",
       "      <td>35.000000</td>\n",
       "      <td>14.000000</td>\n",
       "    </tr>\n",
       "    <tr>\n",
       "      <th>max</th>\n",
       "      <td>3952.000000</td>\n",
       "      <td>28.000000</td>\n",
       "      <td>3952.000000</td>\n",
       "      <td>5.000000</td>\n",
       "      <td>1.009669e+09</td>\n",
       "      <td>3883.000000</td>\n",
       "      <td>56.000000</td>\n",
       "      <td>20.000000</td>\n",
       "    </tr>\n",
       "  </tbody>\n",
       "</table>\n",
       "</div>"
      ],
      "text/plain": [
       "          MovieIDs           ID      MovieID      Ratings     TimeStamp  \\\n",
       "count  3493.000000  3493.000000  3493.000000  3493.000000  3.493000e+03   \n",
       "mean   2002.874606    16.256799  1810.537647     3.560263  9.785946e+08   \n",
       "std    1147.475803     7.475210  1078.401733     1.090751  2.336840e+06   \n",
       "min       2.000000     1.000000     1.000000     1.000000  9.781252e+08   \n",
       "25%    1003.000000    10.000000   951.000000     3.000000  9.781533e+08   \n",
       "50%    2039.000000    18.000000  1732.000000     4.000000  9.782244e+08   \n",
       "75%    2997.000000    23.000000  2694.000000     4.000000  9.782976e+08   \n",
       "max    3952.000000    28.000000  3952.000000     5.000000  1.009669e+09   \n",
       "\n",
       "            UserID          Age   Occupation  \n",
       "count  3493.000000  3493.000000  3493.000000  \n",
       "mean   1958.405955    30.527054     8.241340  \n",
       "std    1121.858091    13.114863     6.347686  \n",
       "min       2.000000     1.000000     0.000000  \n",
       "25%     991.000000    25.000000     3.000000  \n",
       "50%    1971.000000    25.000000     7.000000  \n",
       "75%    2929.000000    35.000000    14.000000  \n",
       "max    3883.000000    56.000000    20.000000  "
      ]
     },
     "execution_count": 5,
     "metadata": {},
     "output_type": "execute_result"
    }
   ],
   "source": [
    "df.describe()"
   ]
  },
  {
   "cell_type": "code",
   "execution_count": 6,
   "metadata": {},
   "outputs": [
    {
     "data": {
      "image/png": "[encoded data removed]",
      "text/plain": [
       "<Figure size 720x720 with 1 Axes>"
      ]
     },
     "metadata": {
      "needs_background": "light"
     },
     "output_type": "display_data"
    }
   ],
   "source": [
    "#Visualize user age distribution\n",
    "df['Age'].value_counts().plot(kind='barh',alpha=0.7,figsize=(10,10))\n",
    "\n",
    "plt.title(\"Distribution of users' Age\")\n",
    "plt.xlabel('Count of users')\n",
    "plt.ylabel('Age')\n",
    "\n",
    "plt.show()"
   ]
  },
  {
   "cell_type": "code",
   "execution_count": 7,
   "metadata": {},
   "outputs": [
    {
     "data": {
      "text/plain": [
       "Text(0.5, 0, 'Age')"
      ]
     },
     "execution_count": 7,
     "metadata": {},
     "output_type": "execute_result"
    },
    {
     "data": {
      "image/png": "[encoded data removed]",
      "text/plain": [
       "<Figure size 432x288 with 1 Axes>"
      ]
     },
     "metadata": {
      "needs_background": "light"
     },
     "output_type": "display_data"
    }
   ],
   "source": [
    "df.Age.plot.hist(bins=25)\n",
    "plt.title(\"Distribution of users' ages\")\n",
    "plt.ylabel('count of users')\n",
    "plt.xlabel('Age')"
   ]
  },
  {
   "cell_type": "code",
   "execution_count": 8,
   "metadata": {},
   "outputs": [
    {
     "data": {
      "text/html": [
       "<div>\n",
       "<style scoped>\n",
       "    .dataframe tbody tr th:only-of-type {\n",
       "        vertical-align: middle;\n",
       "    }\n",
       "\n",
       "    .dataframe tbody tr th {\n",
       "        vertical-align: top;\n",
       "    }\n",
       "\n",
       "    .dataframe thead th {\n",
       "        text-align: right;\n",
       "    }\n",
       "</style>\n",
       "<table border=\"1\" class=\"dataframe\">\n",
       "  <thead>\n",
       "    <tr style=\"text-align: right;\">\n",
       "      <th></th>\n",
       "      <th>Age</th>\n",
       "      <th>age_group</th>\n",
       "    </tr>\n",
       "  </thead>\n",
       "  <tbody>\n",
       "    <tr>\n",
       "      <th>0</th>\n",
       "      <td>25.0</td>\n",
       "      <td>20-29</td>\n",
       "    </tr>\n",
       "    <tr>\n",
       "      <th>1</th>\n",
       "      <td>35.0</td>\n",
       "      <td>30-39</td>\n",
       "    </tr>\n",
       "    <tr>\n",
       "      <th>2</th>\n",
       "      <td>18.0</td>\n",
       "      <td>10-19</td>\n",
       "    </tr>\n",
       "    <tr>\n",
       "      <th>13</th>\n",
       "      <td>45.0</td>\n",
       "      <td>40-49</td>\n",
       "    </tr>\n",
       "    <tr>\n",
       "      <th>14</th>\n",
       "      <td>56.0</td>\n",
       "      <td>50-59</td>\n",
       "    </tr>\n",
       "    <tr>\n",
       "      <th>19</th>\n",
       "      <td>50.0</td>\n",
       "      <td>50-59</td>\n",
       "    </tr>\n",
       "    <tr>\n",
       "      <th>53</th>\n",
       "      <td>1.0</td>\n",
       "      <td>0-9</td>\n",
       "    </tr>\n",
       "  </tbody>\n",
       "</table>\n",
       "</div>"
      ],
      "text/plain": [
       "     Age age_group\n",
       "0   25.0     20-29\n",
       "1   35.0     30-39\n",
       "2   18.0     10-19\n",
       "13  45.0     40-49\n",
       "14  56.0     50-59\n",
       "19  50.0     50-59\n",
       "53   1.0       0-9"
      ]
     },
     "execution_count": 8,
     "metadata": {},
     "output_type": "execute_result"
    }
   ],
   "source": [
    "labels = ['0-9', '10-19', '20-29', '30-39', '40-49', '50-59', '60-69', '70-79']\n",
    "df['age_group'] = pd.cut(df.Age, range(0, 81, 10), right=False, labels=labels)\n",
    "df[['Age', 'age_group']].drop_duplicates()[:10]"
   ]
  },
  {
   "cell_type": "code",
   "execution_count": 9,
   "metadata": {},
   "outputs": [
    {
     "data": {
      "image/png": "[encoded data removed]",
      "text/plain": [
       "<Figure size 720x720 with 1 Axes>"
      ]
     },
     "metadata": {
      "needs_background": "light"
     },
     "output_type": "display_data"
    }
   ],
   "source": [
    "#Visualize overall rating by users\n",
    "df['Ratings'].value_counts().plot(kind='bar',alpha=0.7,figsize=(10,10))\n",
    "\n",
    "plt.title(\"Distribution of users' Ratings\")\n",
    "plt.ylabel('count of users')\n",
    "plt.xlabel('Ratings')\n",
    "\n",
    "plt.show()"
   ]
  },
  {
   "cell_type": "markdown",
   "metadata": {},
   "source": [
    "Model Training"
   ]
  },
  {
   "cell_type": "code",
   "execution_count": 10,
   "metadata": {},
   "outputs": [],
   "source": [
    "#Training only on 500 for faster compute in the tutorial\n",
    "df=df[:500]"
   ]
  },
  {
   "cell_type": "code",
   "execution_count": 11,
   "metadata": {},
   "outputs": [],
   "source": [
    "features = df[['MovieID','Age','Occupation']].values\n",
    "\n",
    "labels = df['Ratings'].values"
   ]
  },
  {
   "cell_type": "code",
   "execution_count": 12,
   "metadata": {},
   "outputs": [],
   "source": [
    "#Create train and test data set\n",
    "train, test, train_labels, test_labels = train_test_split(features,labels,test_size=0.33,random_state=42)"
   ]
  },
  {
   "cell_type": "code",
   "execution_count": 13,
   "metadata": {},
   "outputs": [],
   "source": [
    "from sklearn.model_selection import learning_curve\n",
    "\n",
    "def plot_learning_curve(estimator, title, X, y, axes=None, ylim=None, cv=None, n_jobs=None,\n",
    "                        train_sizes=np.linspace(.1, 1.0, 5)):\n",
    "    \n",
    "    if axes is None:\n",
    "        _, axes = plt.subplots(1, 3, figsize=(20, 5))\n",
    "\n",
    "    axes[0].set_title(title)\n",
    "    if ylim is not None:\n",
    "        axes[0].set_ylim(*ylim)\n",
    "    axes[0].set_xlabel(\"Training examples\")\n",
    "    axes[0].set_ylabel(\"Score\")\n",
    "\n",
    "    train_sizes, train_scores, test_scores, fit_times, _ = \\\n",
    "        learning_curve(estimator, X, y, cv=cv, n_jobs=n_jobs,\n",
    "                       train_sizes=train_sizes,\n",
    "                       return_times=True)\n",
    "    # print(\"TRAINING SCORES\",train_scores)\n",
    "    train_scores_mean = np.mean(train_scores, axis=1)\n",
    "    train_scores_std = np.std(train_scores, axis=1)\n",
    "    test_scores_mean = np.mean(test_scores, axis=1)\n",
    "    test_scores_std = np.std(test_scores, axis=1)\n",
    "    fit_times_mean = np.mean(fit_times, axis=1)\n",
    "    fit_times_std = np.std(fit_times, axis=1)\n",
    "    \n",
    "    # Plot learning curve\n",
    "    axes[0].grid()\n",
    "    axes[0].fill_between(train_sizes, train_scores_mean - train_scores_std,\n",
    "                         train_scores_mean + train_scores_std, alpha=0.1,\n",
    "                         color=\"r\")\n",
    "    axes[0].fill_between(train_sizes, test_scores_mean - test_scores_std,\n",
    "                         test_scores_mean + test_scores_std, alpha=0.1,\n",
    "                         color=\"g\")\n",
    "    axes[0].plot(train_sizes, train_scores_mean, 'o-', color=\"r\",\n",
    "                 label=\"Training score\")\n",
    "    axes[0].plot(train_sizes, test_scores_mean, 'o-', color=\"g\",\n",
    "                 label=\"Cross-validation score\")\n",
    "    axes[0].legend(loc=\"best\")\n",
    "\n",
    "    # Plot n_samples vs fit_times\n",
    "    axes[1].grid()\n",
    "    axes[1].plot(train_sizes, fit_times_mean, 'o-')\n",
    "    axes[1].fill_between(train_sizes, fit_times_mean - fit_times_std,\n",
    "                         fit_times_mean + fit_times_std, alpha=0.1)\n",
    "    axes[1].set_xlabel(\"Training examples\")\n",
    "    axes[1].set_ylabel(\"fit_times\")\n",
    "    axes[1].set_title(\"Scalability of the model\")\n",
    "\n",
    "    # Plot fit_time vs score\n",
    "    axes[2].grid()\n",
    "    axes[2].plot(fit_times_mean, test_scores_mean, 'o-')\n",
    "    axes[2].fill_between(fit_times_mean, test_scores_mean - test_scores_std,\n",
    "                         test_scores_mean + test_scores_std, alpha=0.1)\n",
    "    axes[2].set_xlabel(\"fit_times\")\n",
    "    axes[2].set_ylabel(\"Score\")\n",
    "    axes[2].set_title(\"Performance of the model\")\n",
    "\n",
    "    return plt,train_scores_mean,test_scores_mean,fit_times_mean\n"
   ]
  },
  {
   "cell_type": "markdown",
   "metadata": {},
   "source": [
    "Logging Accuracy and Time to Fit as scalers in clear ML"
   ]
  },
  {
   "cell_type": "code",
   "execution_count": 22,
   "metadata": {},
   "outputs": [],
   "source": [
    "USER_MODEL_VERSION=2"
   ]
  },
  {
   "cell_type": "code",
   "execution_count": 23,
   "metadata": {},
   "outputs": [],
   "source": [
    "# Set script parameters\n",
    "task_params = {'criterion': 'entropy',\n",
    " 'max_depth': 10,\n",
    " 'max_features': 'auto'}\n",
    " \n",
    "task_params = task.connect(task_params)\n"
   ]
  },
  {
   "cell_type": "code",
   "execution_count": 24,
   "metadata": {},
   "outputs": [
    {
     "data": {
      "image/png": "[encoded data removed]",
      "text/plain": [
       "<Figure size 2160x720 with 3 Axes>"
      ]
     },
     "metadata": {
      "needs_background": "light"
     },
     "output_type": "display_data"
    }
   ],
   "source": [
    "import matplotlib.pyplot as plt\n",
    "import numpy as np\n",
    "from sklearn.datasets import load_digits\n",
    "from sklearn.model_selection import ShuffleSplit\n",
    "from sklearn.model_selection import learning_curve\n",
    "from sklearn.naive_bayes import GaussianNB\n",
    "from sklearn.svm import SVC\n",
    "from clearml import Task, Logger\n",
    "\n",
    "# Connecting ClearML with the current process,\n",
    "# from here on everything is logged automatically\n",
    "\n",
    "\n",
    "Task.current_task()\n",
    "\n",
    "fig, fig_axes = plt.subplots(1, 3, figsize=(30, 10))\n",
    "\n",
    "#Create train and test data set\n",
    "# train, test, train_labels, test_labels = train_test_split(features,labels,test_size=0.33,random_state=42)\n",
    "\n",
    "X, y =features, labels\n",
    "title = \"Learning Curves (Decision Tree)\"\n",
    "# Cross validation with 100 iterations to get smoother mean test and train\n",
    "# score curves, each time with 20% data randomly selected as a validation set.\n",
    "\n",
    "cv = ShuffleSplit(n_splits=100, test_size=0.2, random_state=0)\n",
    "\n",
    "estimator = DecisionTreeClassifier(**task_params)\n",
    "\n",
    "plt,a,b,c=plot_learning_curve(estimator, title, X, y, axes=fig_axes, ylim=(0.7, 1.01), cv=cv, n_jobs=4)\n",
    "\n",
    "plt.show()\n",
    "\n",
    "epoch=USER_MODEL_VERSION\n",
    "\n",
    "Logger.current_logger().report_scalar(title='Train Accuracy', \n",
    "            series='train_scores_mean', value=a.mean(), iteration=epoch)\n",
    "Logger.current_logger().report_scalar(title='Test Accuracy', \n",
    "            series='test_scores_mean', value=b.mean(), iteration=epoch)\n",
    "Logger.current_logger().report_scalar(title='Fit Time', \n",
    "            series='fit_times_mean', value=c.mean(), iteration=epoch)\n"
   ]
  },
  {
   "cell_type": "code",
   "execution_count": 25,
   "metadata": {},
   "outputs": [],
   "source": [
    "# Store the Model into ClearML as an Artifact\n",
    "\n",
    "random_forest = DecisionTreeClassifier(**task_params)\n",
    "random_forest.fit(train, train_labels)\n",
    "Y_pred = random_forest.predict(test)\n",
    "random_forest.score(train, train_labels)\n",
    "acc_random_forest = round(random_forest.score(train, train_labels) * 100, 2)\n",
    "joblib.dump(random_forest, 'decision_tree_djoe_data2.pkl', compress=True)\n",
    "print(\"Model Stored with Accuracy\",acc_random_forest)"
   ]
  },
  {
   "cell_type": "code",
   "execution_count": null,
   "metadata": {},
   "outputs": [],
   "source": []
  }
 ],
 "metadata": {
  "kernelspec": {
   "display_name": "Python 3.9.13 ('clearml')",
   "language": "python",
   "name": "python3"
  },
  "language_info": {
   "codemirror_mode": {
    "name": "ipython",
    "version": 3
   },
   "file_extension": ".py",
   "mimetype": "text/x-python",
   "name": "python",
   "nbconvert_exporter": "python",
   "pygments_lexer": "ipython3",
   "version": "3.9.13"
  },
  "orig_nbformat": 4,
  "vscode": {
   "interpreter": {
    "hash": "cea2ad9f411150eafff34b9ddb004ce6ab8779fabde9f0e696c28653153f13c1"
   }
  }
 },
 "nbformat": 4,
 "nbformat_minor": 2
}
